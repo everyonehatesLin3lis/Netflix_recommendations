{
 "cells": [
  {
   "cell_type": "markdown",
   "metadata": {},
   "source": [
    "# Data extraction\n",
    "\n",
    "We have seen that data contains only `movieID`, `year` and `title`. It looks why too less to make recommendation for users. That's why we used themoviedb API to get more data related to movies we already have.\n",
    "Link: https://developer.themoviedb.org/docs/getting-started"
   ]
  },
  {
   "cell_type": "code",
   "execution_count": 1,
   "metadata": {},
   "outputs": [],
   "source": [
    "import sys, os\n",
    "import pandas as pd"
   ]
  },
  {
   "cell_type": "code",
   "execution_count": 2,
   "metadata": {},
   "outputs": [],
   "source": [
    "import requests\n",
    "from tqdm import tqdm"
   ]
  },
  {
   "cell_type": "code",
   "execution_count": 3,
   "metadata": {},
   "outputs": [
    {
     "name": "stdout",
     "output_type": "stream",
     "text": [
      "    movieID    year                                              title\n",
      "0   movieID    year                                              title\n",
      "1         1  2003.0                                    Dinosaur Planet\n",
      "2         2  2004.0                         Isle of Man TT 2004 Review\n",
      "3         3  1997.0                                          Character\n",
      "4         4  1994.0                       Paula Abdul's Get Up & Dance\n",
      "5         5  2004.0                           The Rise and Fall of ECW\n",
      "6         6  1997.0                                               Sick\n",
      "7         7  1992.0                                              8 Man\n",
      "8         8  2004.0                         What the #$*! Do We Know!?\n",
      "9         9  1991.0                           Class of Nuke 'Em High 2\n",
      "10       10  2001.0                                            Fighter\n",
      "11       11  1999.0                     Full Frame: Documentary Shorts\n",
      "12       12  1947.0                               My Favorite Brunette\n",
      "13       13  2003.0  Lord of the Rings: The Return of the King: Ext...\n",
      "14       14  1982.0                                 Nature: Antarctica\n",
      "15       15  1988.0                   Neil Diamond: Greatest Hits Live\n",
      "16       16  1996.0                                          Screamers\n",
      "17       17  2005.0                                          7 Seconds\n",
      "18       18  1994.0                                   Immortal Beloved\n",
      "19       19  2000.0                              By Dawn's Early Light\n",
      "   movieID    year                         title\n",
      "0  movieID    year                         title\n",
      "1        1  2003.0               Dinosaur Planet\n",
      "2        2  2004.0    Isle of Man TT 2004 Review\n",
      "3        3  1997.0                     Character\n",
      "4        4  1994.0  Paula Abdul's Get Up & Dance\n",
      "Index(['movieID', 'year', 'title'], dtype='object')\n",
      "4585\n"
     ]
    }
   ],
   "source": [
    "movies_file = os.path.join(os.getcwd(), 'data', 'movie_titles.csv')\n",
    "\n",
    "try:\n",
    "    movie_titles = pd.read_csv(\n",
    "        movies_file, \n",
    "        header=None, \n",
    "        names=['movieID', 'year', 'title'], \n",
    "        encoding='ISO-8859-1', \n",
    "        on_bad_lines='skip'\n",
    "    )\n",
    "    print(movie_titles.head(20))\n",
    "except FileNotFoundError:\n",
    "    print(f\"File not found: {movies_file}\")\n",
    "    print(\"Please check the path and ensure the file exists.\")\n",
    "except UnicodeDecodeError as e:\n",
    "    print(f\"Encoding error: {e}\")\n",
    "except pd.errors.ParserError as e:\n",
    "    print(f\"Parser error: {e}\")\n",
    "\n",
    "print(movie_titles.head())\n",
    "print(movie_titles.columns)\n",
    "print(len(movie_titles))"
   ]
  },
  {
   "cell_type": "code",
   "execution_count": 4,
   "metadata": {},
   "outputs": [],
   "source": [
    "TMDB_API_KEY = 'Your secret key'\n",
    "TMDB_API_URL = 'https://api.themoviedb.org/3'"
   ]
  },
  {
   "cell_type": "code",
   "execution_count": null,
   "metadata": {},
   "outputs": [],
   "source": [
    "def fetch_movie_details(title):\n",
    "    try:\n",
    "        search_response = requests.get(\n",
    "            f\"{TMDB_API_URL}/search/movie\",\n",
    "            params={\"api_key\": TMDB_API_KEY, \"query\": title}\n",
    "        )\n",
    "        search_response.raise_for_status()\n",
    "        search_results = search_response.json().get('results')\n",
    "        \n",
    "        if not search_results:\n",
    "            return {\n",
    "                'genres': None,\n",
    "                'runtime': None,\n",
    "                'original_language': None,\n",
    "                'popularity': None,\n",
    "                'adult': None\n",
    "            }\n",
    "        \n",
    "        movie_id = search_results[0].get('id')\n",
    "        \n",
    "        details_response = requests.get(\n",
    "            f\"{TMDB_API_URL}/movie/{movie_id}\",\n",
    "            params={\"api_key\": TMDB_API_KEY}\n",
    "        )\n",
    "        details_response.raise_for_status()\n",
    "        details = details_response.json()\n",
    "        \n",
    "        genres = ', '.join([genre['name'] for genre in details.get('genres', [])])\n",
    "        runtime = details.get('runtime')\n",
    "        original_language = details.get('original_language')\n",
    "        popularity = details.get('popularity')\n",
    "        adult = details.get('adult')\n",
    "        \n",
    "        return {\n",
    "            'genres': genres,\n",
    "            'runtime': runtime,\n",
    "            'original_language': original_language,\n",
    "            'popularity': popularity,\n",
    "            'adult': adult\n",
    "        }\n",
    "    \n",
    "    except requests.exceptions.RequestException as e:\n",
    "        print(f\"Request error for {title}: {e}\")\n",
    "        return {\n",
    "            'genres': None,\n",
    "            'runtime': None,\n",
    "            'original_language': None,\n",
    "            'popularity': None,\n",
    "            'adult': None\n",
    "        }\n",
    "        \n",
    "tqdm.pandas(desc=\"Fetching movie details\")\n",
    "movie_details = movie_titles['title'].progress_apply(fetch_movie_details)\n",
    "\n",
    "details_df = pd.DataFrame(movie_details.tolist())\n",
    "\n",
    "movie_titles = pd.concat([movie_titles, details_df], axis=1)\n",
    "\n",
    "movie_titles.to_csv('Data/movie_titles_with_details.csv', index=False)"
   ]
  },
  {
   "cell_type": "markdown",
   "metadata": {},
   "source": [
    "From `tmdb` API we added `genres`,`runtime`,`original_language`,`popularity` and `adult` features."
   ]
  }
 ],
 "metadata": {
  "kernelspec": {
   "display_name": "Python 3",
   "language": "python",
   "name": "python3"
  },
  "language_info": {
   "codemirror_mode": {
    "name": "ipython",
    "version": 3
   },
   "file_extension": ".py",
   "mimetype": "text/x-python",
   "name": "python",
   "nbconvert_exporter": "python",
   "pygments_lexer": "ipython3",
   "version": "3.11.3"
  }
 },
 "nbformat": 4,
 "nbformat_minor": 2
}
