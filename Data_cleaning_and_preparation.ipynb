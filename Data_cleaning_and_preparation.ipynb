{
 "cells": [
  {
   "cell_type": "markdown",
   "metadata": {},
   "source": [
    "# Data cleaning and preparation"
   ]
  },
  {
   "cell_type": "code",
   "execution_count": 16,
   "metadata": {},
   "outputs": [],
   "source": [
    "import sys, os\n",
    "import pandas as pd"
   ]
  },
  {
   "cell_type": "markdown",
   "metadata": {},
   "source": [
    "1 step: we cleaned basically duplicates, and zero values from data. Moreover, made some features into int type and some to str type to ensure soothe analysis moving further."
   ]
  },
  {
   "cell_type": "code",
   "execution_count": 17,
   "metadata": {},
   "outputs": [
    {
     "name": "stdout",
     "output_type": "stream",
     "text": [
      "    movieID    year                                              title   \n",
      "0   movieID    year                                              title  \\\n",
      "1         1  2003.0                                    Dinosaur Planet   \n",
      "2         2  2004.0                         Isle of Man TT 2004 Review   \n",
      "3         3  1997.0                                          Character   \n",
      "4         4  1994.0                       Paula Abdul's Get Up & Dance   \n",
      "5         5  2004.0                           The Rise and Fall of ECW   \n",
      "6         6  1997.0                                               Sick   \n",
      "7         7  1992.0                                              8 Man   \n",
      "8         8  2004.0                         What the #$*! Do We Know!?   \n",
      "9         9  1991.0                           Class of Nuke 'Em High 2   \n",
      "10       10  2001.0                                            Fighter   \n",
      "11       11  1999.0                     Full Frame: Documentary Shorts   \n",
      "12       12  1947.0                               My Favorite Brunette   \n",
      "13       13  2003.0  Lord of the Rings: The Return of the King: Ext...   \n",
      "14       14  1982.0                                 Nature: Antarctica   \n",
      "15       15  1988.0                   Neil Diamond: Greatest Hits Live   \n",
      "16       16  1996.0                                          Screamers   \n",
      "17       17  2005.0                                          7 Seconds   \n",
      "18       18  1994.0                                   Immortal Beloved   \n",
      "19       19  2000.0                              By Dawn's Early Light   \n",
      "\n",
      "                               genres  runtime original_language  popularity   \n",
      "0                                 NaN     18.0                en       0.951  \\\n",
      "1                         Documentary     50.0                en       0.581   \n",
      "2                                 NaN      NaN               NaN         NaN   \n",
      "3                         Documentary     17.0                en       1.333   \n",
      "4                                 NaN      0.0                en       1.556   \n",
      "5                         Documentary    171.0                en      14.147   \n",
      "6           Horror, Mystery, Thriller     83.0                en      22.834   \n",
      "7                              Horror     51.0                ja       0.844   \n",
      "8          Documentary, Comedy, Drama    109.0                en      15.104   \n",
      "9     Comedy, Horror, Science Fiction     95.0                en      13.818   \n",
      "10                       Drama, Crime    116.0                pl       1.688   \n",
      "11                                NaN      NaN               NaN         NaN   \n",
      "12           Comedy, Mystery, Romance     87.0                en      11.576   \n",
      "13                                NaN      NaN               NaN         NaN   \n",
      "14                        Documentary     39.0                en      11.360   \n",
      "15                        Documentary     60.0                en       3.823   \n",
      "16       Horror, Science Fiction, War    108.0                en      11.091   \n",
      "17            Action, Crime, Thriller     96.0                en      21.560   \n",
      "18              Drama, Music, Romance    121.0                en      17.071   \n",
      "19  TV Movie, Action, Drama, Thriller    101.0                en      12.688   \n",
      "\n",
      "    adult  \n",
      "0   False  \n",
      "1   False  \n",
      "2     NaN  \n",
      "3   False  \n",
      "4   False  \n",
      "5   False  \n",
      "6   False  \n",
      "7   False  \n",
      "8   False  \n",
      "9   False  \n",
      "10  False  \n",
      "11    NaN  \n",
      "12  False  \n",
      "13    NaN  \n",
      "14  False  \n",
      "15  False  \n",
      "16  False  \n",
      "17  False  \n",
      "18  False  \n",
      "19  False  \n"
     ]
    }
   ],
   "source": [
    "movies_file = os.path.join(os.getcwd(), 'data', 'movie_titles_with_details.csv')\n",
    "\n",
    "# Load movie titles with error handling and proper quote handling\n",
    "try:\n",
    "    movie_titles = pd.read_csv(\n",
    "        movies_file \n",
    "    )\n",
    "    print(movie_titles.head(20))  # Print the first 20 lines to inspect the data\n",
    "except FileNotFoundError:\n",
    "    print(f\"File not found: {movies_file}\")\n",
    "    print(\"Please check the path and ensure the file exists.\")\n",
    "except UnicodeDecodeError as e:\n",
    "    print(f\"Encoding error: {e}\")\n",
    "except pd.errors.ParserError as e:\n",
    "    print(f\"Parser error: {e}\")\n"
   ]
  },
  {
   "cell_type": "code",
   "execution_count": 18,
   "metadata": {},
   "outputs": [],
   "source": [
    "movie_titles = movie_titles.iloc[1:].reset_index(drop=True)"
   ]
  },
  {
   "cell_type": "code",
   "execution_count": 19,
   "metadata": {},
   "outputs": [
    {
     "data": {
      "text/plain": [
       "movieID  year   title  genres  runtime  original_language  popularity  adult\n",
       "False    False  False  False   False    False              False       False    3572\n",
       "                       True    True     True               True        True      861\n",
       "                               False    False              False       False     151\n",
       "Name: count, dtype: int64"
      ]
     },
     "execution_count": 19,
     "metadata": {},
     "output_type": "execute_result"
    }
   ],
   "source": [
    "movie_titles.isnull().value_counts()"
   ]
  },
  {
   "cell_type": "code",
   "execution_count": 20,
   "metadata": {},
   "outputs": [],
   "source": [
    "movie_titles_w_na = movie_titles.dropna()"
   ]
  },
  {
   "cell_type": "code",
   "execution_count": 21,
   "metadata": {},
   "outputs": [
    {
     "data": {
      "text/plain": [
       "movieID  year   title  genres  runtime  original_language  popularity  adult\n",
       "False    False  False  False   False    False              False       False    3572\n",
       "Name: count, dtype: int64"
      ]
     },
     "execution_count": 21,
     "metadata": {},
     "output_type": "execute_result"
    }
   ],
   "source": [
    "movie_titles_w_na.isnull().value_counts()"
   ]
  },
  {
   "cell_type": "code",
   "execution_count": 22,
   "metadata": {},
   "outputs": [
    {
     "name": "stdout",
     "output_type": "stream",
     "text": [
      "<class 'pandas.core.frame.DataFrame'>\n",
      "Index: 3572 entries, 0 to 4583\n",
      "Data columns (total 8 columns):\n",
      " #   Column             Non-Null Count  Dtype  \n",
      "---  ------             --------------  -----  \n",
      " 0   movieID            3572 non-null   object \n",
      " 1   year               3572 non-null   object \n",
      " 2   title              3572 non-null   object \n",
      " 3   genres             3572 non-null   object \n",
      " 4   runtime            3572 non-null   float64\n",
      " 5   original_language  3572 non-null   object \n",
      " 6   popularity         3572 non-null   float64\n",
      " 7   adult              3572 non-null   object \n",
      "dtypes: float64(2), object(6)\n",
      "memory usage: 251.2+ KB\n"
     ]
    }
   ],
   "source": [
    "movie_titles_w_na.info()"
   ]
  },
  {
   "cell_type": "code",
   "execution_count": 23,
   "metadata": {},
   "outputs": [
    {
     "name": "stderr",
     "output_type": "stream",
     "text": [
      "C:\\Users\\pelec\\AppData\\Local\\Temp\\ipykernel_23196\\1542131949.py:1: SettingWithCopyWarning: \n",
      "A value is trying to be set on a copy of a slice from a DataFrame.\n",
      "Try using .loc[row_indexer,col_indexer] = value instead\n",
      "\n",
      "See the caveats in the documentation: https://pandas.pydata.org/pandas-docs/stable/user_guide/indexing.html#returning-a-view-versus-a-copy\n",
      "  movie_titles_w_na['movieID'] = pd.to_numeric(movie_titles_w_na['movieID'], errors='coerce').astype('Int64')\n",
      "C:\\Users\\pelec\\AppData\\Local\\Temp\\ipykernel_23196\\1542131949.py:2: SettingWithCopyWarning: \n",
      "A value is trying to be set on a copy of a slice from a DataFrame.\n",
      "Try using .loc[row_indexer,col_indexer] = value instead\n",
      "\n",
      "See the caveats in the documentation: https://pandas.pydata.org/pandas-docs/stable/user_guide/indexing.html#returning-a-view-versus-a-copy\n",
      "  movie_titles_w_na['year'] = pd.to_numeric(movie_titles_w_na['year'], errors='coerce').astype('Int64')\n",
      "C:\\Users\\pelec\\AppData\\Local\\Temp\\ipykernel_23196\\1542131949.py:3: SettingWithCopyWarning: \n",
      "A value is trying to be set on a copy of a slice from a DataFrame.\n",
      "Try using .loc[row_indexer,col_indexer] = value instead\n",
      "\n",
      "See the caveats in the documentation: https://pandas.pydata.org/pandas-docs/stable/user_guide/indexing.html#returning-a-view-versus-a-copy\n",
      "  movie_titles_w_na['title'] = movie_titles_w_na['title'].astype(str)\n",
      "C:\\Users\\pelec\\AppData\\Local\\Temp\\ipykernel_23196\\1542131949.py:4: SettingWithCopyWarning: \n",
      "A value is trying to be set on a copy of a slice from a DataFrame.\n",
      "Try using .loc[row_indexer,col_indexer] = value instead\n",
      "\n",
      "See the caveats in the documentation: https://pandas.pydata.org/pandas-docs/stable/user_guide/indexing.html#returning-a-view-versus-a-copy\n",
      "  movie_titles_w_na['genres'] = movie_titles_w_na['genres'].astype(str)\n"
     ]
    }
   ],
   "source": [
    "movie_titles_w_na['movieID'] = pd.to_numeric(movie_titles_w_na['movieID'], errors='coerce').astype('Int64')\n",
    "movie_titles_w_na['year'] = pd.to_numeric(movie_titles_w_na['year'], errors='coerce').astype('Int64')\n",
    "movie_titles_w_na['title'] = movie_titles_w_na['title'].astype(str)\n",
    "movie_titles_w_na['genres'] = movie_titles_w_na['genres'].astype(str)"
   ]
  },
  {
   "cell_type": "code",
   "execution_count": 24,
   "metadata": {},
   "outputs": [
    {
     "data": {
      "text/plain": [
       "movieID  year   title  genres  runtime  original_language  popularity  adult\n",
       "False    False  False  False   False    False              False       False    3572\n",
       "Name: count, dtype: int64"
      ]
     },
     "execution_count": 24,
     "metadata": {},
     "output_type": "execute_result"
    }
   ],
   "source": [
    "movie_titles_w_na.isnull().value_counts()"
   ]
  },
  {
   "cell_type": "markdown",
   "metadata": {},
   "source": [
    "2 step: we took only 1 part of data related to users information about watched movies and ratings. Limited to 300 million rows due to lack of computer capabilities to handle bigger data set."
   ]
  },
  {
   "cell_type": "code",
   "execution_count": 25,
   "metadata": {},
   "outputs": [
    {
     "name": "stdout",
     "output_type": "stream",
     "text": [
      "   movieID  customerID  rating\n",
      "0        1     1488844     3.0\n",
      "1        1      822109     5.0\n",
      "2        1      885013     4.0\n",
      "3        1       30878     4.0\n",
      "4        1      823519     3.0\n"
     ]
    }
   ],
   "source": [
    "data_file = os.path.join(os.getcwd(), 'Data', 'combined_data_1.txt')\n",
    "\n",
    "movie_ids = []\n",
    "customer_ids = []\n",
    "ratings = []\n",
    "rows_processed = 0\n",
    "max_rows = 300000000\n",
    "\n",
    "try:\n",
    "    with open(data_file, 'r') as file:\n",
    "        current_movie_id = None\n",
    "        for line in file:\n",
    "            if rows_processed >= max_rows:\n",
    "                break\n",
    "            \n",
    "            line = line.strip()\n",
    "            if line.endswith(':'):\n",
    "                current_movie_id = line.replace(':', '')\n",
    "            else:\n",
    "                if current_movie_id is not None:\n",
    "                    parts = line.split(',')\n",
    "                    customer_id = parts[0]\n",
    "                    rating = parts[1]\n",
    "                    movie_ids.append(current_movie_id)\n",
    "                    customer_ids.append(customer_id)\n",
    "                    ratings.append(rating)\n",
    "                    rows_processed += 1\n",
    "\n",
    "    df = pd.DataFrame({\n",
    "        'movieID': movie_ids,\n",
    "        'customerID': customer_ids,\n",
    "        'rating': ratings\n",
    "    })\n",
    "\n",
    "    df['movieID'] = df['movieID'].astype(int)\n",
    "    df['customerID'] = df['customerID'].astype(int)\n",
    "    df['rating'] = df['rating'].astype(float)\n",
    "\n",
    "    print(df.head())\n",
    "\n",
    "except FileNotFoundError:\n",
    "    print(f\"File not found: {data_file}\")\n",
    "    print(\"Please check the path and ensure the file exists.\")\n",
    "except Exception as e:\n",
    "    print(f\"An error occurred: {e}\")"
   ]
  },
  {
   "cell_type": "code",
   "execution_count": 26,
   "metadata": {},
   "outputs": [
    {
     "data": {
      "text/plain": [
       "movieID  customerID  rating  year   title  genres  runtime  original_language  popularity  adult\n",
       "False    False       False   False  False  False   False    False              False       False    21784674\n",
       "Name: count, dtype: int64"
      ]
     },
     "execution_count": 26,
     "metadata": {},
     "output_type": "execute_result"
    }
   ],
   "source": [
    "merged_df = pd.merge(df, movie_titles_w_na, on='movieID')\n",
    "merged_df.isnull().value_counts()"
   ]
  },
  {
   "cell_type": "markdown",
   "metadata": {},
   "source": [
    "3 step: merged users related data with information about movies. Dropped `title` and `adult` feature due to reduction of dataset size and `adult` feature having only FALSE values."
   ]
  },
  {
   "cell_type": "code",
   "execution_count": 30,
   "metadata": {},
   "outputs": [],
   "source": [
    "merged_df = merged_df.drop(columns=['title','adult'])"
   ]
  },
  {
   "cell_type": "code",
   "execution_count": 31,
   "metadata": {},
   "outputs": [],
   "source": [
    "merged_df.to_parquet('Data/Data_for_model.parquet', index=False)"
   ]
  }
 ],
 "metadata": {
  "kernelspec": {
   "display_name": "Python 3",
   "language": "python",
   "name": "python3"
  },
  "language_info": {
   "codemirror_mode": {
    "name": "ipython",
    "version": 3
   },
   "file_extension": ".py",
   "mimetype": "text/x-python",
   "name": "python",
   "nbconvert_exporter": "python",
   "pygments_lexer": "ipython3",
   "version": "3.11.3"
  }
 },
 "nbformat": 4,
 "nbformat_minor": 2
}
